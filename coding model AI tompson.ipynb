{
 "cells": [
  {
   "cell_type": "code",
   "execution_count": 1,
   "id": "5bab6ef9",
   "metadata": {},
   "outputs": [],
   "source": [
    "import numpy as np"
   ]
  },
  {
   "cell_type": "code",
   "execution_count": 2,
   "id": "95856ab0",
   "metadata": {},
   "outputs": [],
   "source": [
    "#trying to create ai envirenements"
   ]
  },
  {
   "cell_type": "code",
   "execution_count": 3,
   "id": "b7a8d5e1",
   "metadata": {},
   "outputs": [],
   "source": [
    "#setting conversion rates\n",
    "conversionRates=[0.15,0.04,0.13,0.11,0.05] #machines\n",
    "N=10000\n",
    "d=len(conversionRates) "
   ]
  },
  {
   "cell_type": "code",
   "execution_count": 4,
   "id": "5477cccc",
   "metadata": {},
   "outputs": [],
   "source": [
    "#rray = np.random.randint(low=0, high=2, size=(N,d))\n",
    "#rray #trying to make matrix"
   ]
  },
  {
   "cell_type": "code",
   "execution_count": 5,
   "id": "8e6cf425",
   "metadata": {},
   "outputs": [],
   "source": [
    "#creating the dataset \n",
    "X=np.zeros((N,d))\n",
    "for i in range(N):\n",
    "    for j in range (d):\n",
    "        if np.random.rand() < conversionRates[j]: # if the random, number between 0 ,1    x<0.15 =1  ,x>0.15= 0\n",
    "            X[i][j]=1\n"
   ]
  },
  {
   "cell_type": "code",
   "execution_count": 6,
   "id": "84e5daa3",
   "metadata": {},
   "outputs": [
    {
     "data": {
      "text/plain": [
       "array([1457.,  397., 1326., 1106.,  492.])"
      ]
     },
     "execution_count": 6,
     "metadata": {},
     "output_type": "execute_result"
    }
   ],
   "source": [
    "sum(X)"
   ]
  },
  {
   "cell_type": "code",
   "execution_count": 7,
   "id": "faa3319c",
   "metadata": {},
   "outputs": [],
   "source": [
    "# nposReward and npnegative\n",
    "#vecotr transform as array np   "
   ]
  },
  {
   "cell_type": "code",
   "execution_count": 8,
   "id": "1a3dcde3",
   "metadata": {},
   "outputs": [],
   "source": [
    "#rewards\n",
    "nPosReward = np.zeros(d)\n",
    "nNegReward = np.zeros(d)"
   ]
  },
  {
   "cell_type": "code",
   "execution_count": 9,
   "id": "2ca8fde9",
   "metadata": {},
   "outputs": [],
   "source": [
    "#taking our best slotmachine throufh beta distribution  and updting losses and wins\n",
    "for i in range(N) :\n",
    "    selected = 0\n",
    "    maxRandom = 0\n",
    "    for j in range(d) :\n",
    "        randomBeta = np.random.beta(nPosReward[j] + 1, nNegReward[j] + 1)\n",
    "        if randomBeta > maxRandom:\n",
    "            maxRandom = randomBeta\n",
    "            selected = j\n",
    "    if X[i][selected] == 1:\n",
    "        nPosReward[selected] += 1\n",
    "    else:\n",
    "        nNegReward[selected] += 1\n",
    "            \n",
    "        \n",
    "# we updated our npos and neg depending on whether you have won or not . we can do that with code \n",
    "    "
   ]
  },
  {
   "cell_type": "code",
   "execution_count": 10,
   "id": "f699f3d2",
   "metadata": {},
   "outputs": [
    {
     "name": "stdout",
     "output_type": "stream",
     "text": [
      "Machine number 1 was selected 5282.0 times\n",
      "Machine number 2 was selected 81.0 times\n",
      "Machine number 3 was selected 4237.0 times\n",
      "Machine number 4 was selected 278.0 times\n",
      "Machine number 5 was selected 122.0 times\n",
      "Conclusion: Best machine is machine number 1\n"
     ]
    }
   ],
   "source": [
    "#showing which slot machine is considered the best \n",
    "nSelected = nPosReward + nNegReward\n",
    "for i in range(d):\n",
    "    print('Machine number ' + str(i+1) + ' was selected ' + str(nSelected[i]) + ' times')\n",
    "print('Conclusion: Best machine is machine number ' + str(np.argmax(nSelected) + 1))"
   ]
  },
  {
   "cell_type": "markdown",
   "id": "372e8b29",
   "metadata": {},
   "source": [
    "## "
   ]
  }
 ],
 "metadata": {
  "kernelspec": {
   "display_name": "Python 3 (ipykernel)",
   "language": "python",
   "name": "python3"
  },
  "language_info": {
   "codemirror_mode": {
    "name": "ipython",
    "version": 3
   },
   "file_extension": ".py",
   "mimetype": "text/x-python",
   "name": "python",
   "nbconvert_exporter": "python",
   "pygments_lexer": "ipython3",
   "version": "3.10.9"
  }
 },
 "nbformat": 4,
 "nbformat_minor": 5
}
